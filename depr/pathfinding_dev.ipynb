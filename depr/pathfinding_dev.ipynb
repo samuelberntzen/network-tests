{
 "cells": [
  {
   "cell_type": "code",
   "execution_count": 1,
   "metadata": {},
   "outputs": [],
   "source": [
    "place = \"Oslo\""
   ]
  },
  {
   "cell_type": "code",
   "execution_count": 2,
   "metadata": {},
   "outputs": [],
   "source": [
    "import json\n",
    "import os\n",
    "\n",
    "os.environ[\"USE_PYGEOS\"] = \"0\"\n",
    "os.environ[\"LD_LIBRARY_PATH\"] = \"/usr/lib/x86_64-linux-gnu/libstdc++.so.6\"\n",
    "\n",
    "from utils.Shared.Graph import Graph\n",
    "from utils.Shared.Pathfinder import Pathfinder\n",
    "\n",
    "# Load geojson as json\n",
    "with open(f\"data/processed/{place}_nodes.geojson\", \"r\") as f:\n",
    "    nodes = json.load(f)\n",
    "\n",
    "with open(f\"data/processed/{place}_edges.geojson\", \"r\") as f:\n",
    "    edges = json.load(f)\n",
    "\n",
    "from utils.Shared.Graph import Graph\n",
    "from utils.Shared.Pathfinder import Pathfinder"
   ]
  },
  {
   "cell_type": "code",
   "execution_count": 3,
   "metadata": {},
   "outputs": [
    {
     "name": "stdout",
     "output_type": "stream",
     "text": [
      "352208\n",
      "326813\n"
     ]
    }
   ],
   "source": [
    "print(len(edges[\"features\"]))\n",
    "print(len(nodes[\"features\"]))"
   ]
  },
  {
   "cell_type": "code",
   "execution_count": 4,
   "metadata": {},
   "outputs": [],
   "source": [
    "graph = Graph(nodes_data=nodes[\"features\"], edges_data=edges[\"features\"])"
   ]
  },
  {
   "cell_type": "code",
   "execution_count": 5,
   "metadata": {},
   "outputs": [],
   "source": [
    "graph_plot = graph.plot_graph(filepath=\"figures/Graph_base.png\", show=False)"
   ]
  },
  {
   "cell_type": "code",
   "execution_count": 6,
   "metadata": {},
   "outputs": [],
   "source": [
    "graph.export_graph_to_json(filename=\"data/Graph/graph.json\")\n",
    "del graph"
   ]
  },
  {
   "cell_type": "code",
   "execution_count": 7,
   "metadata": {},
   "outputs": [],
   "source": [
    "graph = Graph.from_json_file(filename=\"data/Graph/graph.json\")"
   ]
  },
  {
   "cell_type": "code",
   "execution_count": 8,
   "metadata": {},
   "outputs": [],
   "source": [
    "orig_node = graph.find_closest_node(59.94903, 10.82746)\n",
    "dest_node = graph.find_closest_node(59.92831, 10.82817)"
   ]
  },
  {
   "cell_type": "code",
   "execution_count": 9,
   "metadata": {},
   "outputs": [
    {
     "name": "stdout",
     "output_type": "stream",
     "text": [
      "Distance to destination (meters): 3213.828\n"
     ]
    }
   ],
   "source": [
    "pathfinder = Pathfinder(graph)\n",
    "route = pathfinder.shortest_path_dijkstra(orig_node, dest_node)\n",
    "\n",
    "distance = sum([edge.distance for edge in route])\n",
    "\n",
    "print(f\"Distance to destination (meters): {distance}\")\n",
    "\n",
    "assert route[0].u == orig_node.id\n",
    "assert route[-1].v == dest_node.id"
   ]
  },
  {
   "cell_type": "code",
   "execution_count": 10,
   "metadata": {},
   "outputs": [],
   "source": [
    "pathfinder.plot_route(\n",
    "    route,\n",
    "    filepath=\"figures/Pathfinder_test.png\",\n",
    "    show=False,\n",
    ")"
   ]
  }
 ],
 "metadata": {
  "kernelspec": {
   "display_name": "venv",
   "language": "python",
   "name": "python3"
  },
  "language_info": {
   "codemirror_mode": {
    "name": "ipython",
    "version": 3
   },
   "file_extension": ".py",
   "mimetype": "text/x-python",
   "name": "python",
   "nbconvert_exporter": "python",
   "pygments_lexer": "ipython3",
   "version": "3.11.4"
  },
  "orig_nbformat": 4
 },
 "nbformat": 4,
 "nbformat_minor": 2
}
