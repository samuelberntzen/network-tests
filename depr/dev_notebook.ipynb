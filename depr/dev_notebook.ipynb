{
 "cells": [
  {
   "cell_type": "code",
   "execution_count": 1,
   "metadata": {},
   "outputs": [],
   "source": [
    "import os\n",
    "\n",
    "os.environ[\"USE_PYGEOS\"] = \"0\"\n",
    "os.environ[\"LD_LIBRARY_PATH\"] = \"/usr/lib/x86_64-linux-gnu/libstdc++.so.6\""
   ]
  },
  {
   "cell_type": "code",
   "execution_count": 2,
   "metadata": {},
   "outputs": [],
   "source": [
    "import pandas as pd\n",
    "import shapely\n",
    "import networkx as nx\n",
    "import matplotlib.pyplot as plt\n",
    "import json\n",
    "from utils.functions import *\n",
    "from pyrosm import OSM, get_data\n",
    "from decouple import config\n",
    "import os\n",
    "import matplotlib.patches as mpatches\n",
    "import matplotlib.colors as mcolors\n",
    "import seaborn as sns\n",
    "import osmnx as ox"
   ]
  },
  {
   "cell_type": "markdown",
   "metadata": {},
   "source": [
    "### Set variables "
   ]
  },
  {
   "cell_type": "code",
   "execution_count": 4,
   "metadata": {},
   "outputs": [],
   "source": [
    "# Place\n",
    "place = \"Oslo\"\n",
    "\n",
    "\n",
    "# If specific area specified\n",
    "sub_areas = [\n",
    "    \"Alna\",\n",
    "    \"Bjerke\",\n",
    "    #     \"Frogner\",\n",
    "    #     \"Gamle Oslo\",\n",
    "    #     \"Grorud\",\n",
    "    #     \"Grünerløkka\",\n",
    "    #     \"Nordre Aker\",\n",
    "    #     \"Nordstrand\",\n",
    "    #     \"Sagene\",\n",
    "    #     \"St. Hanshaugen\",\n",
    "    #     \"Stovner\",\n",
    "    #     \"Søndre Nordstrand\",\n",
    "    #     \"Ullern\",\n",
    "    #     \"Vestre Aker\",\n",
    "    #     \"Østensjø\",\n",
    "]"
   ]
  },
  {
   "cell_type": "code",
   "execution_count": 5,
   "metadata": {},
   "outputs": [],
   "source": [
    "# Load self-defined lane types and criterias\n",
    "with open(\"categories.json\", \"r\") as f:\n",
    "    categories = json.load(f)"
   ]
  },
  {
   "cell_type": "code",
   "execution_count": 6,
   "metadata": {},
   "outputs": [],
   "source": [
    "# Attributes\n",
    "attributes = list(\n",
    "    set(\n",
    "        [\n",
    "            colname\n",
    "            for category in categories\n",
    "            for colname, value in category[\"criteria\"].items()\n",
    "        ]\n",
    "    )\n",
    ")"
   ]
  },
  {
   "cell_type": "code",
   "execution_count": 7,
   "metadata": {},
   "outputs": [],
   "source": [
    "# Define the roads and their order for bicyclists\n",
    "# TODO: Check if this can be added as environment variable or specified by user?\n",
    "category_score = {\n",
    "    \"Designated cycleway, segregated\": 1,\n",
    "    \"Bicycle and footpath\": 2,\n",
    "    \"Road with bike lane\": 3,\n",
    "    \"Road with one-directional cycleway\": 4,\n",
    "    \"Footpath\": 5,\n",
    "    \"Sidewalk\": 6,\n",
    "    \"Pedestrian way\": 7,\n",
    "    \"Road without bike lane\": 8,\n",
    "}\n",
    "\n",
    "parent_category_score = {\n",
    "    \"Designated cyclepath\": 1,\n",
    "    \"Footway\": 2,\n",
    "    \"Road without bike lane\": 3,\n",
    "}\n",
    "\n",
    "\n",
    "# Add road score to categories\n",
    "for category, score in category_score.items():\n",
    "    for road in categories:\n",
    "        if road[\"category\"] == category:\n",
    "            road[\"categoryScore\"] = score\n",
    "\n",
    "# Add road score to parent categories\n",
    "for parent, score in parent_category_score.items():\n",
    "    for road in categories:\n",
    "        if road[\"parent\"] == parent:\n",
    "            road[\"parentScore\"] = score"
   ]
  },
  {
   "cell_type": "markdown",
   "metadata": {},
   "source": [
    "### OSM Data Retrieval"
   ]
  },
  {
   "cell_type": "code",
   "execution_count": 8,
   "metadata": {},
   "outputs": [],
   "source": [
    "# Initialize the OSM object\n",
    "fp = os.path.join(\"data\", \"OpenStreetMap\", f\"{place}.osm.pbf\")\n",
    "osm = OSM(fp)"
   ]
  },
  {
   "cell_type": "code",
   "execution_count": 9,
   "metadata": {},
   "outputs": [],
   "source": [
    "# Set bounding boxes from specified sub-areas\n",
    "bounding_boxes = []\n",
    "if sub_areas:\n",
    "    for a in sub_areas:\n",
    "        bounding_box = osm.get_boundaries(name=a)\n",
    "        bounding_boxes.append(bounding_box[\"geometry\"].values[0])\n",
    "\n",
    "    # Merge bounding boxes into one\n",
    "    bb = shapely.ops.unary_union(bounding_boxes)\n",
    "else:\n",
    "    bb = None"
   ]
  },
  {
   "cell_type": "code",
   "execution_count": 10,
   "metadata": {},
   "outputs": [],
   "source": [
    "# Initiliaze with bounding box\n",
    "osm = OSM(fp, bounding_box=bb)"
   ]
  },
  {
   "cell_type": "code",
   "execution_count": 11,
   "metadata": {},
   "outputs": [],
   "source": [
    "bike_nodes, bike_edges = osm.get_network(\n",
    "    network_type=\"all\", nodes=True, extra_attributes=attributes\n",
    ")"
   ]
  },
  {
   "cell_type": "code",
   "execution_count": 12,
   "metadata": {},
   "outputs": [],
   "source": [
    "roads_to_keep = [\n",
    "    \"cycleway\",\n",
    "    \"footway\",\n",
    "    \"secondary\",\n",
    "    \"tertiary\",\n",
    "    \"unclassified\",\n",
    "    \"sidewalk\",\n",
    "    \"pedestrian\",\n",
    "    \"service\",\n",
    "    \"residential\",\n",
    "]"
   ]
  },
  {
   "cell_type": "code",
   "execution_count": 13,
   "metadata": {},
   "outputs": [
    {
     "name": "stdout",
     "output_type": "stream",
     "text": [
      "Number of edges before nodes filtering: 53329\n",
      "Number of nodes before nodes filtering: 57381\n",
      "\n",
      "Number of edges after edge filtering: 53329\n",
      "Number of nodes after edge filtering: 49888\n",
      "\n",
      "Number of edges after node filtering: 53071\n",
      "Number of nodes after node filtering: 49888\n",
      "\n"
     ]
    }
   ],
   "source": [
    "# Filter out un-bikeable roads\n",
    "bike_edges = bike_edges[bike_edges[\"highway\"].isin(roads_to_keep)]\n",
    "bike_edges = bike_edges[bike_edges[\"access\"].isnull()]\n",
    "\n",
    "print(f\"Number of edges before nodes filtering: {len(bike_edges)}\")\n",
    "print(f\"Number of nodes before nodes filtering: {len(bike_nodes)}\\n\")\n",
    "\n",
    "\n",
    "# Filter out nodes that are not in edges\n",
    "nodes_in_edges = [u for u in bike_edges[\"u\"]] + [v for v in bike_edges[\"v\"]]\n",
    "bike_nodes = bike_nodes[bike_nodes[\"id\"].isin(nodes_in_edges)]\n",
    "\n",
    "print(f\"Number of edges after edge filtering: {len(bike_edges)}\")\n",
    "print(f\"Number of nodes after edge filtering: {len(bike_nodes)}\\n\")\n",
    "\n",
    "# Filter out edges not are not in nodes\n",
    "nodes_in_nodes = [u for u in bike_nodes[\"id\"]]\n",
    "bike_edges = bike_edges[\n",
    "    bike_edges[\"u\"].isin(nodes_in_nodes) & bike_edges[\"v\"].isin(nodes_in_nodes)\n",
    "]\n",
    "\n",
    "print(f\"Number of edges after node filtering: {len(bike_edges)}\")\n",
    "print(f\"Number of nodes after node filtering: {len(bike_nodes)}\\n\")"
   ]
  },
  {
   "cell_type": "code",
   "execution_count": 14,
   "metadata": {},
   "outputs": [],
   "source": [
    "bike_edges = assign_categories(bike_edges, categories, \"category\")\n",
    "bike_edges = assign_categories(bike_edges, categories, \"parent\")\n",
    "\n",
    "bike_edges = set_category_score(bike_edges, categories, \"category\")\n",
    "bike_edges = set_category_score(bike_edges, categories, \"parent\")"
   ]
  },
  {
   "cell_type": "code",
   "execution_count": 20,
   "metadata": {},
   "outputs": [
    {
     "name": "stdout",
     "output_type": "stream",
     "text": [
      "<class 'geopandas.geodataframe.GeoDataFrame'>\n",
      "Index: 53071 entries, 39 to 61960\n",
      "Data columns (total 44 columns):\n",
      " #   Column          Non-Null Count  Dtype   \n",
      "---  ------          --------------  -----   \n",
      " 0   access          0 non-null      object  \n",
      " 1   area            468 non-null    object  \n",
      " 2   bicycle         5402 non-null   object  \n",
      " 3   bridge          486 non-null    object  \n",
      " 4   cycleway        197 non-null    object  \n",
      " 5   foot            6715 non-null   object  \n",
      " 6   footway         9009 non-null   object  \n",
      " 7   highway         53071 non-null  object  \n",
      " 8   junction        762 non-null    object  \n",
      " 9   lanes           2630 non-null   object  \n",
      " 10  lit             8659 non-null   object  \n",
      " 11  maxspeed        5823 non-null   object  \n",
      " 12  motorcar        0 non-null      object  \n",
      " 13  motorroad       0 non-null      object  \n",
      " 14  motor_vehicle   1051 non-null   object  \n",
      " 15  name            13736 non-null  object  \n",
      " 16  oneway          3346 non-null   object  \n",
      " 17  overtaking      2 non-null      object  \n",
      " 18  psv             41 non-null     object  \n",
      " 19  ref             160 non-null    object  \n",
      " 20  service         6297 non-null   object  \n",
      " 21  segregated      5143 non-null   object  \n",
      " 22  sidewalk        1676 non-null   object  \n",
      " 23  smoothness      909 non-null    object  \n",
      " 24  surface         29958 non-null  object  \n",
      " 25  tracktype       52 non-null     object  \n",
      " 26  tunnel          133 non-null    object  \n",
      " 27  width           201 non-null    object  \n",
      " 28  cycleway:right  297 non-null    object  \n",
      " 29  cycleway:left   56 non-null     object  \n",
      " 30  oneway:bicycle  65 non-null     object  \n",
      " 31  id              53071 non-null  int64   \n",
      " 32  timestamp       53071 non-null  uint32  \n",
      " 33  version         53071 non-null  int32   \n",
      " 34  tags            53071 non-null  object  \n",
      " 35  osm_type        53071 non-null  object  \n",
      " 36  geometry        53071 non-null  geometry\n",
      " 37  u               53071 non-null  int64   \n",
      " 38  v               53071 non-null  int64   \n",
      " 39  length          53071 non-null  float64 \n",
      " 40  category        53071 non-null  object  \n",
      " 41  parent          53071 non-null  object  \n",
      " 42  categoryScore   53071 non-null  int64   \n",
      " 43  parentScore     53071 non-null  int64   \n",
      "dtypes: float64(1), geometry(1), int32(1), int64(5), object(35), uint32(1)\n",
      "memory usage: 17.8+ MB\n"
     ]
    }
   ],
   "source": [
    "bike_edges.info()"
   ]
  },
  {
   "cell_type": "code",
   "execution_count": 36,
   "metadata": {},
   "outputs": [],
   "source": [
    "# Trim GDF\n",
    "edge_cols_to_keep = [\n",
    "    \"id\",\n",
    "    \"u\",\n",
    "    \"v\",\n",
    "    \"highway\",\n",
    "    \"category\",\n",
    "    \"categoryScore\",\n",
    "    \"parent\",\n",
    "    \"parentScore\",\n",
    "    \"lit\",\n",
    "    \"oneway\",\n",
    "    \"oneway:bicycle\",\n",
    "    \"segregated\",\n",
    "    \"surface\",\n",
    "    \"length\",\n",
    "    \"geometry\",\n",
    "]\n",
    "\n",
    "node_cols_to_keep = [\n",
    "    \"timestamp\",\n",
    "    \"changeset\",\n",
    "    \"version\",\n",
    "    \"visible\",\n",
    "    \"lon\",\n",
    "    \"lat\",\n",
    "    \"id\",\n",
    "    \"geometry\",\n",
    "]\n",
    "\n",
    "bike_edges = bike_edges[edge_cols_to_keep]\n",
    "node_edges = node_edges[node_cols_to_keep]"
   ]
  },
  {
   "cell_type": "code",
   "execution_count": 37,
   "metadata": {},
   "outputs": [],
   "source": [
    "# Save GeoDataFrames as GeoJSON\n",
    "with open(f\"data/processed/{place}_nodes.geojson\", \"w\") as f:\n",
    "    f.write(bike_nodes.to_json(indent=4))\n",
    "\n",
    "with open(f\"data/processed/{place}_edges.geojson\", \"w\") as f:\n",
    "    f.write(bike_edges.to_json(indent=4))"
   ]
  },
  {
   "cell_type": "code",
   "execution_count": 38,
   "metadata": {},
   "outputs": [
    {
     "name": "stdout",
     "output_type": "stream",
     "text": [
      "Number of edges: 352208\n",
      "Number of nodes: 326813\n"
     ]
    }
   ],
   "source": [
    "n_edges = len(bike_edges)\n",
    "n_nodes = len(bike_nodes)\n",
    "\n",
    "print(f\"Number of edges: {n_edges}\")\n",
    "print(f\"Number of nodes: {n_nodes}\")"
   ]
  },
  {
   "cell_type": "code",
   "execution_count": 39,
   "metadata": {},
   "outputs": [],
   "source": [
    "# Plot bike road category length\n",
    "plt.figure(figsize=(10, 10))\n",
    "sns.barplot(\n",
    "    x=bike_edges[\"length\"],\n",
    "    y=bike_edges[\"category\"],\n",
    "    estimator=sum,\n",
    "    errorbar=None,\n",
    "    orient=\"h\",\n",
    ")\n",
    "# Save the figure\n",
    "figpath = os.path.join(\"figures\", f\"{place}_road_lengths.png\")\n",
    "plt.savefig(figpath, dpi=200, bbox_inches=\"tight\")\n",
    "plt.close()"
   ]
  },
  {
   "cell_type": "markdown",
   "metadata": {},
   "source": [
    "### Visualisations"
   ]
  },
  {
   "cell_type": "code",
   "execution_count": 40,
   "metadata": {},
   "outputs": [],
   "source": [
    "plot_bike_roads_with_category(\n",
    "    bike_edges,\n",
    "    place,\n",
    "    \"parent\",\n",
    "    \"parentScore\",\n",
    "    cmap_name=\"Oranges_r\",\n",
    "    bg_color=\"black\",\n",
    ")"
   ]
  },
  {
   "cell_type": "code",
   "execution_count": 41,
   "metadata": {},
   "outputs": [],
   "source": [
    "m = bike_edges[[\"id\", \"parent\", \"geometry\"]].explore(column=\"parent\")\n",
    "\n",
    "outfp = f\"figures/{place}_bike_roads_interactive.html\"\n",
    "m.save(outfp)\n",
    "\n",
    "# webbrowser.open(outfp)"
   ]
  },
  {
   "cell_type": "markdown",
   "metadata": {},
   "source": [
    "### Convert to graph and process data"
   ]
  },
  {
   "cell_type": "code",
   "execution_count": 42,
   "metadata": {},
   "outputs": [],
   "source": [
    "G = osm.to_graph(bike_nodes, bike_edges, graph_type=\"networkx\")"
   ]
  },
  {
   "cell_type": "code",
   "execution_count": 43,
   "metadata": {},
   "outputs": [
    {
     "name": "stdout",
     "output_type": "stream",
     "text": [
      "1.0418646335601807\n"
     ]
    }
   ],
   "source": [
    "# Test plot route\n",
    "orig = ox.distance.nearest_nodes(G, 10.82746, 59.94903)\n",
    "# orig = ox.distance.nearest_nodes(G, 10.79564, 59.92986)\n",
    "dest = ox.distance.nearest_nodes(G, 10.82817, 59.92831)\n",
    "# dest = ox.distance.nearest_nodes(G, 10.8057, 59.931)\n",
    "\n",
    "start_time = time.time()\n",
    "route = ox.distance.shortest_path(G, orig, dest, weight=\"length\", cpus=1)\n",
    "end_time = time.time()\n",
    "run_time = end_time - start_time\n",
    "print(run_time)\n",
    "\n",
    "if route != None:\n",
    "    plt.figure()\n",
    "    fig, ax = ox.plot_graph_route(\n",
    "        G,\n",
    "        route,\n",
    "        route_color=\"r\",\n",
    "        route_linewidth=1,\n",
    "        node_size=0,\n",
    "        edge_linewidth=0.1,\n",
    "        orig_dest_size=5,\n",
    "        figsize=(30, 30),\n",
    "        show=False,\n",
    "        save=True,\n",
    "        filepath=f\"figures/{place}_route_osmnx.png\",\n",
    "    )\n",
    "    plt.close()\n",
    "\n",
    "elif route == None:\n",
    "    print(\"No route found. Could not plot\")"
   ]
  }
 ],
 "metadata": {
  "kernelspec": {
   "display_name": "venv",
   "language": "python",
   "name": "python3"
  },
  "language_info": {
   "codemirror_mode": {
    "name": "ipython",
    "version": 3
   },
   "file_extension": ".py",
   "mimetype": "text/x-python",
   "name": "python",
   "nbconvert_exporter": "python",
   "pygments_lexer": "ipython3",
   "version": "3.11.4"
  },
  "orig_nbformat": 4
 },
 "nbformat": 4,
 "nbformat_minor": 2
}
